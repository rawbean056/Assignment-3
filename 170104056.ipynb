{
  "nbformat": 4,
  "nbformat_minor": 0,
  "metadata": {
    "colab": {
      "name": "Bidirectional_RNN.ipynb",
      "provenance": [],
      "collapsed_sections": []
    },
    "kernelspec": {
      "display_name": "Python 3",
      "name": "python3"
    },
    "language_info": {
      "name": "python"
    }
  },
  "cells": [
    {
      "cell_type": "code",
      "metadata": {
        "colab": {
          "base_uri": "https://localhost:8080/"
        },
        "id": "HiOEKmITXr85",
        "outputId": "6e180c43-8ec3-4563-b116-edd995402f40"
      },
      "source": [
        "from google.colab import drive\n",
        "drive.mount('/content/drive')"
      ],
      "execution_count": 1,
      "outputs": [
        {
          "output_type": "stream",
          "name": "stdout",
          "text": [
            "Mounted at /content/drive\n"
          ]
        }
      ]
    },
    {
      "cell_type": "code",
      "metadata": {
        "id": "v5GBLxTkYqFo"
      },
      "source": [
        "import numpy as np\n",
        "import pandas as pd\n",
        "import seaborn as sns\n",
        "import tensorflow as tf\n",
        "import matplotlib.pyplot as plt\n",
        "from tensorflow.keras import layers\n",
        "from tensorflow import keras\n",
        "\n",
        "\n",
        "from keras.preprocessing.text import Tokenizer\n",
        "from keras.preprocessing.sequence import pad_sequences\n",
        "from keras.models import Sequential\n",
        "from keras import layers\n",
        "from keras import backend as K\n",
        "from keras.utils.vis_utils import plot_model\n",
        "\n",
        "from sklearn.metrics import accuracy_score\n",
        "from sklearn.metrics import precision_score\n",
        "from sklearn.metrics import recall_score\n",
        "from sklearn.metrics import f1_score\n",
        "from sklearn.metrics import confusion_matrix"
      ],
      "execution_count": 22,
      "outputs": []
    },
    {
      "cell_type": "code",
      "metadata": {
        "colab": {
          "base_uri": "https://localhost:8080/",
          "height": 204
        },
        "id": "S4jLUcXrYe52",
        "outputId": "49c4cc8a-7953-4a3b-9e72-8466a21790b8"
      },
      "source": [
        "url_train = '/content/drive/MyDrive/4.2/SoftCom/Dataset 3.csv'\n",
        "data = pd.read_csv(url_train, engine='python')\n",
        "data.head()"
      ],
      "execution_count": 3,
      "outputs": [
        {
          "output_type": "execute_result",
          "data": {
            "text/html": [
              "<div>\n",
              "<style scoped>\n",
              "    .dataframe tbody tr th:only-of-type {\n",
              "        vertical-align: middle;\n",
              "    }\n",
              "\n",
              "    .dataframe tbody tr th {\n",
              "        vertical-align: top;\n",
              "    }\n",
              "\n",
              "    .dataframe thead th {\n",
              "        text-align: right;\n",
              "    }\n",
              "</style>\n",
              "<table border=\"1\" class=\"dataframe\">\n",
              "  <thead>\n",
              "    <tr style=\"text-align: right;\">\n",
              "      <th></th>\n",
              "      <th>tweets</th>\n",
              "      <th>sentiment</th>\n",
              "    </tr>\n",
              "  </thead>\n",
              "  <tbody>\n",
              "    <tr>\n",
              "      <th>0</th>\n",
              "      <td>just had a real good moment. i missssssssss hi...</td>\n",
              "      <td>0</td>\n",
              "    </tr>\n",
              "    <tr>\n",
              "      <th>1</th>\n",
              "      <td>is reading manga  http://plurk.com/p/mzp1e</td>\n",
              "      <td>0</td>\n",
              "    </tr>\n",
              "    <tr>\n",
              "      <th>2</th>\n",
              "      <td>@comeagainjen http://twitpic.com/2y2lx - http:...</td>\n",
              "      <td>0</td>\n",
              "    </tr>\n",
              "    <tr>\n",
              "      <th>3</th>\n",
              "      <td>@lapcat Need to send 'em to my accountant tomo...</td>\n",
              "      <td>0</td>\n",
              "    </tr>\n",
              "    <tr>\n",
              "      <th>4</th>\n",
              "      <td>ADD ME ON MYSPACE!!!  myspace.com/LookThunder</td>\n",
              "      <td>0</td>\n",
              "    </tr>\n",
              "  </tbody>\n",
              "</table>\n",
              "</div>"
            ],
            "text/plain": [
              "                                              tweets  sentiment\n",
              "0  just had a real good moment. i missssssssss hi...          0\n",
              "1         is reading manga  http://plurk.com/p/mzp1e          0\n",
              "2  @comeagainjen http://twitpic.com/2y2lx - http:...          0\n",
              "3  @lapcat Need to send 'em to my accountant tomo...          0\n",
              "4      ADD ME ON MYSPACE!!!  myspace.com/LookThunder          0"
            ]
          },
          "metadata": {},
          "execution_count": 3
        }
      ]
    },
    {
      "cell_type": "code",
      "metadata": {
        "colab": {
          "base_uri": "https://localhost:8080/",
          "height": 204
        },
        "id": "poegRBlnZegK",
        "outputId": "97fa2ac4-48f1-4537-a74e-90d9166a812b"
      },
      "source": [
        "shuffled_data = data.sample(frac=1)\n",
        "shuffled_data.head()"
      ],
      "execution_count": null,
      "outputs": [
        {
          "output_type": "execute_result",
          "data": {
            "text/html": [
              "<div>\n",
              "<style scoped>\n",
              "    .dataframe tbody tr th:only-of-type {\n",
              "        vertical-align: middle;\n",
              "    }\n",
              "\n",
              "    .dataframe tbody tr th {\n",
              "        vertical-align: top;\n",
              "    }\n",
              "\n",
              "    .dataframe thead th {\n",
              "        text-align: right;\n",
              "    }\n",
              "</style>\n",
              "<table border=\"1\" class=\"dataframe\">\n",
              "  <thead>\n",
              "    <tr style=\"text-align: right;\">\n",
              "      <th></th>\n",
              "      <th>tweets</th>\n",
              "      <th>sentiment</th>\n",
              "    </tr>\n",
              "  </thead>\n",
              "  <tbody>\n",
              "    <tr>\n",
              "      <th>9401</th>\n",
              "      <td>May I remind you pips. Depression is not a jok...</td>\n",
              "      <td>1</td>\n",
              "    </tr>\n",
              "    <tr>\n",
              "      <th>7987</th>\n",
              "      <td>Holland today, Chicago tonight and tomorrow fo...</td>\n",
              "      <td>0</td>\n",
              "    </tr>\n",
              "    <tr>\n",
              "      <th>1356</th>\n",
              "      <td>Going to say my prayers and go to sleep!</td>\n",
              "      <td>0</td>\n",
              "    </tr>\n",
              "    <tr>\n",
              "      <th>2600</th>\n",
              "      <td>fantastic song  ? http://blip.fm/~7aaxh</td>\n",
              "      <td>0</td>\n",
              "    </tr>\n",
              "    <tr>\n",
              "      <th>4967</th>\n",
              "      <td>@britneyfrancis the regular.. trying to find s...</td>\n",
              "      <td>0</td>\n",
              "    </tr>\n",
              "  </tbody>\n",
              "</table>\n",
              "</div>"
            ],
            "text/plain": [
              "                                                 tweets  sentiment\n",
              "9401  May I remind you pips. Depression is not a jok...          1\n",
              "7987  Holland today, Chicago tonight and tomorrow fo...          0\n",
              "1356          Going to say my prayers and go to sleep!           0\n",
              "2600            fantastic song  ? http://blip.fm/~7aaxh          0\n",
              "4967  @britneyfrancis the regular.. trying to find s...          0"
            ]
          },
          "metadata": {},
          "execution_count": 4
        }
      ]
    },
    {
      "cell_type": "code",
      "metadata": {
        "id": "thtCzpSFZtU4"
      },
      "source": [
        "shuffled_data.to_csv('/content/drive/MyDrive/4.2/SoftCom/shuffledData.csv')"
      ],
      "execution_count": null,
      "outputs": []
    },
    {
      "cell_type": "code",
      "metadata": {
        "id": "olwEV5bsaEb0",
        "colab": {
          "base_uri": "https://localhost:8080/",
          "height": 204
        },
        "outputId": "ecfca7f2-bff2-4382-d150-8b1874e6175b"
      },
      "source": [
        "url_shuffled_data ='/content/drive/MyDrive/4.2/SoftCom/shuffledData.csv'\n",
        "shuffled_data = pd.read_csv(url_shuffled_data, engine='python')\n",
        "shuffled_data.head()"
      ],
      "execution_count": 4,
      "outputs": [
        {
          "output_type": "execute_result",
          "data": {
            "text/html": [
              "<div>\n",
              "<style scoped>\n",
              "    .dataframe tbody tr th:only-of-type {\n",
              "        vertical-align: middle;\n",
              "    }\n",
              "\n",
              "    .dataframe tbody tr th {\n",
              "        vertical-align: top;\n",
              "    }\n",
              "\n",
              "    .dataframe thead th {\n",
              "        text-align: right;\n",
              "    }\n",
              "</style>\n",
              "<table border=\"1\" class=\"dataframe\">\n",
              "  <thead>\n",
              "    <tr style=\"text-align: right;\">\n",
              "      <th></th>\n",
              "      <th>Unnamed: 0</th>\n",
              "      <th>tweets</th>\n",
              "      <th>sentiment</th>\n",
              "    </tr>\n",
              "  </thead>\n",
              "  <tbody>\n",
              "    <tr>\n",
              "      <th>0</th>\n",
              "      <td>5243</td>\n",
              "      <td>@peter_shih 10x!  I shall publish the 2nd part...</td>\n",
              "      <td>0</td>\n",
              "    </tr>\n",
              "    <tr>\n",
              "      <th>1</th>\n",
              "      <td>1497</td>\n",
              "      <td>I'm back to number 12 on the Smallville trivia...</td>\n",
              "      <td>0</td>\n",
              "    </tr>\n",
              "    <tr>\n",
              "      <th>2</th>\n",
              "      <td>8146</td>\n",
              "      <td>insulting people who actually struggle with de...</td>\n",
              "      <td>1</td>\n",
              "    </tr>\n",
              "    <tr>\n",
              "      <th>3</th>\n",
              "      <td>8466</td>\n",
              "      <td>@MissPureGold *Hug..... I simply meant alot of...</td>\n",
              "      <td>1</td>\n",
              "    </tr>\n",
              "    <tr>\n",
              "      <th>4</th>\n",
              "      <td>5179</td>\n",
              "      <td>Ready for this cheer boot camp to start up, ho...</td>\n",
              "      <td>0</td>\n",
              "    </tr>\n",
              "  </tbody>\n",
              "</table>\n",
              "</div>"
            ],
            "text/plain": [
              "   Unnamed: 0                                             tweets  sentiment\n",
              "0        5243  @peter_shih 10x!  I shall publish the 2nd part...          0\n",
              "1        1497  I'm back to number 12 on the Smallville trivia...          0\n",
              "2        8146  insulting people who actually struggle with de...          1\n",
              "3        8466  @MissPureGold *Hug..... I simply meant alot of...          1\n",
              "4        5179  Ready for this cheer boot camp to start up, ho...          0"
            ]
          },
          "metadata": {},
          "execution_count": 4
        }
      ]
    },
    {
      "cell_type": "code",
      "metadata": {
        "colab": {
          "base_uri": "https://localhost:8080/",
          "height": 204
        },
        "id": "DB5oO1O2aVzR",
        "outputId": "d1684dbc-432a-4755-ee1d-94ce6c259ccc"
      },
      "source": [
        "EPOCH = 15\n",
        "\n",
        "split_val = int(0.2 * shuffled_data.shape[0])\n",
        "\n",
        "dataTest = shuffled_data.iloc[-split_val :]\n",
        "dataVal = shuffled_data.iloc[- 2 * split_val : -split_val]\n",
        "dataTrain = shuffled_data.iloc[: - 2 * split_val]\n",
        "\n",
        "dataTest.head()\n",
        "\n"
      ],
      "execution_count": 5,
      "outputs": [
        {
          "output_type": "execute_result",
          "data": {
            "text/html": [
              "<div>\n",
              "<style scoped>\n",
              "    .dataframe tbody tr th:only-of-type {\n",
              "        vertical-align: middle;\n",
              "    }\n",
              "\n",
              "    .dataframe tbody tr th {\n",
              "        vertical-align: top;\n",
              "    }\n",
              "\n",
              "    .dataframe thead th {\n",
              "        text-align: right;\n",
              "    }\n",
              "</style>\n",
              "<table border=\"1\" class=\"dataframe\">\n",
              "  <thead>\n",
              "    <tr style=\"text-align: right;\">\n",
              "      <th></th>\n",
              "      <th>Unnamed: 0</th>\n",
              "      <th>tweets</th>\n",
              "      <th>sentiment</th>\n",
              "    </tr>\n",
              "  </thead>\n",
              "  <tbody>\n",
              "    <tr>\n",
              "      <th>8252</th>\n",
              "      <td>10019</td>\n",
              "      <td>@ItsPresmatic @AboksSignature We come to twitt...</td>\n",
              "      <td>1</td>\n",
              "    </tr>\n",
              "    <tr>\n",
              "      <th>8253</th>\n",
              "      <td>6070</td>\n",
              "      <td>@rascalflatts when are you guys coming back to...</td>\n",
              "      <td>0</td>\n",
              "    </tr>\n",
              "    <tr>\n",
              "      <th>8254</th>\n",
              "      <td>1039</td>\n",
              "      <td>@MagmaFlow Not yet.... too early in the AM</td>\n",
              "      <td>0</td>\n",
              "    </tr>\n",
              "    <tr>\n",
              "      <th>8255</th>\n",
              "      <td>10281</td>\n",
              "      <td>https://www.google.com/search?client=ms-andro...</td>\n",
              "      <td>1</td>\n",
              "    </tr>\n",
              "    <tr>\n",
              "      <th>8256</th>\n",
              "      <td>7161</td>\n",
              "      <td>@yami_mami i thought i was the onli one up  ca...</td>\n",
              "      <td>0</td>\n",
              "    </tr>\n",
              "  </tbody>\n",
              "</table>\n",
              "</div>"
            ],
            "text/plain": [
              "      Unnamed: 0                                             tweets  sentiment\n",
              "8252       10019  @ItsPresmatic @AboksSignature We come to twitt...          1\n",
              "8253        6070  @rascalflatts when are you guys coming back to...          0\n",
              "8254        1039        @MagmaFlow Not yet.... too early in the AM           0\n",
              "8255       10281   https://www.google.com/search?client=ms-andro...          1\n",
              "8256        7161  @yami_mami i thought i was the onli one up  ca...          0"
            ]
          },
          "metadata": {},
          "execution_count": 5
        }
      ]
    },
    {
      "cell_type": "code",
      "metadata": {
        "colab": {
          "base_uri": "https://localhost:8080/",
          "height": 204
        },
        "id": "UWsdBIsWbLia",
        "outputId": "244475c3-6b5d-4bd8-b735-18f86fb1efdc"
      },
      "source": [
        "dataVal.head()"
      ],
      "execution_count": 6,
      "outputs": [
        {
          "output_type": "execute_result",
          "data": {
            "text/html": [
              "<div>\n",
              "<style scoped>\n",
              "    .dataframe tbody tr th:only-of-type {\n",
              "        vertical-align: middle;\n",
              "    }\n",
              "\n",
              "    .dataframe tbody tr th {\n",
              "        vertical-align: top;\n",
              "    }\n",
              "\n",
              "    .dataframe thead th {\n",
              "        text-align: right;\n",
              "    }\n",
              "</style>\n",
              "<table border=\"1\" class=\"dataframe\">\n",
              "  <thead>\n",
              "    <tr style=\"text-align: right;\">\n",
              "      <th></th>\n",
              "      <th>Unnamed: 0</th>\n",
              "      <th>tweets</th>\n",
              "      <th>sentiment</th>\n",
              "    </tr>\n",
              "  </thead>\n",
              "  <tbody>\n",
              "    <tr>\n",
              "      <th>6190</th>\n",
              "      <td>1961</td>\n",
              "      <td>@Racing4Research is a way to raise money to cu...</td>\n",
              "      <td>0</td>\n",
              "    </tr>\n",
              "    <tr>\n",
              "      <th>6191</th>\n",
              "      <td>2509</td>\n",
              "      <td>I got a new Tattoo yesterday it is a mama lion...</td>\n",
              "      <td>0</td>\n",
              "    </tr>\n",
              "    <tr>\n",
              "      <th>6192</th>\n",
              "      <td>2011</td>\n",
              "      <td>Man City buy Man Utd - http://bit.ly/IuT2q  (C...</td>\n",
              "      <td>0</td>\n",
              "    </tr>\n",
              "    <tr>\n",
              "      <th>6193</th>\n",
              "      <td>4836</td>\n",
              "      <td>@bing searching for i.e. HP NC7010 drivers dow...</td>\n",
              "      <td>0</td>\n",
              "    </tr>\n",
              "    <tr>\n",
              "      <th>6194</th>\n",
              "      <td>5299</td>\n",
              "      <td>@abduzeedo : loving all the  new tech being sp...</td>\n",
              "      <td>0</td>\n",
              "    </tr>\n",
              "  </tbody>\n",
              "</table>\n",
              "</div>"
            ],
            "text/plain": [
              "      Unnamed: 0                                             tweets  sentiment\n",
              "6190        1961  @Racing4Research is a way to raise money to cu...          0\n",
              "6191        2509  I got a new Tattoo yesterday it is a mama lion...          0\n",
              "6192        2011  Man City buy Man Utd - http://bit.ly/IuT2q  (C...          0\n",
              "6193        4836  @bing searching for i.e. HP NC7010 drivers dow...          0\n",
              "6194        5299  @abduzeedo : loving all the  new tech being sp...          0"
            ]
          },
          "metadata": {},
          "execution_count": 6
        }
      ]
    },
    {
      "cell_type": "code",
      "metadata": {
        "colab": {
          "base_uri": "https://localhost:8080/",
          "height": 204
        },
        "id": "vnjAISqobUAt",
        "outputId": "6e86a7ca-c518-4c26-f7f1-b2ae36989164"
      },
      "source": [
        "dataTrain.head()"
      ],
      "execution_count": 7,
      "outputs": [
        {
          "output_type": "execute_result",
          "data": {
            "text/html": [
              "<div>\n",
              "<style scoped>\n",
              "    .dataframe tbody tr th:only-of-type {\n",
              "        vertical-align: middle;\n",
              "    }\n",
              "\n",
              "    .dataframe tbody tr th {\n",
              "        vertical-align: top;\n",
              "    }\n",
              "\n",
              "    .dataframe thead th {\n",
              "        text-align: right;\n",
              "    }\n",
              "</style>\n",
              "<table border=\"1\" class=\"dataframe\">\n",
              "  <thead>\n",
              "    <tr style=\"text-align: right;\">\n",
              "      <th></th>\n",
              "      <th>Unnamed: 0</th>\n",
              "      <th>tweets</th>\n",
              "      <th>sentiment</th>\n",
              "    </tr>\n",
              "  </thead>\n",
              "  <tbody>\n",
              "    <tr>\n",
              "      <th>0</th>\n",
              "      <td>5243</td>\n",
              "      <td>@peter_shih 10x!  I shall publish the 2nd part...</td>\n",
              "      <td>0</td>\n",
              "    </tr>\n",
              "    <tr>\n",
              "      <th>1</th>\n",
              "      <td>1497</td>\n",
              "      <td>I'm back to number 12 on the Smallville trivia...</td>\n",
              "      <td>0</td>\n",
              "    </tr>\n",
              "    <tr>\n",
              "      <th>2</th>\n",
              "      <td>8146</td>\n",
              "      <td>insulting people who actually struggle with de...</td>\n",
              "      <td>1</td>\n",
              "    </tr>\n",
              "    <tr>\n",
              "      <th>3</th>\n",
              "      <td>8466</td>\n",
              "      <td>@MissPureGold *Hug..... I simply meant alot of...</td>\n",
              "      <td>1</td>\n",
              "    </tr>\n",
              "    <tr>\n",
              "      <th>4</th>\n",
              "      <td>5179</td>\n",
              "      <td>Ready for this cheer boot camp to start up, ho...</td>\n",
              "      <td>0</td>\n",
              "    </tr>\n",
              "  </tbody>\n",
              "</table>\n",
              "</div>"
            ],
            "text/plain": [
              "   Unnamed: 0                                             tweets  sentiment\n",
              "0        5243  @peter_shih 10x!  I shall publish the 2nd part...          0\n",
              "1        1497  I'm back to number 12 on the Smallville trivia...          0\n",
              "2        8146  insulting people who actually struggle with de...          1\n",
              "3        8466  @MissPureGold *Hug..... I simply meant alot of...          1\n",
              "4        5179  Ready for this cheer boot camp to start up, ho...          0"
            ]
          },
          "metadata": {},
          "execution_count": 7
        }
      ]
    },
    {
      "cell_type": "code",
      "metadata": {
        "id": "co1RoLcibw9n"
      },
      "source": [
        "trainX = np.array(dataTrain.iloc[:, 1])\n",
        "trainY = np.array(dataTrain.iloc[:, 2])\n",
        "\n",
        "valX = np.array(dataVal.iloc[:, 1])\n",
        "valY = np.array(dataVal.iloc[:, 2])\n",
        "\n",
        "testX = np.array(dataTest.iloc[:, 1])\n",
        "testY = np.array(dataTest.iloc[:, 2])"
      ],
      "execution_count": 10,
      "outputs": []
    },
    {
      "cell_type": "code",
      "metadata": {
        "id": "JnTPcCsAbzpy"
      },
      "source": [
        "top_k = 50000\n",
        "tokenizer = tf.keras.preprocessing.text.Tokenizer(num_words = top_k,\n",
        "                                                  oov_token = \"<unk>\",\n",
        "                                                  filters = '!\"#$%&()*+.,-/:;=?@[\\]^_`{|}~')\n",
        "tokenizer.fit_on_texts(trainX)\n",
        "\n",
        "tokenizer.word_index['<pad>'] = 0\n",
        "tokenizer.index_word[0] = '<pad>'\n",
        "\n",
        "train_seqs = tokenizer.texts_to_sequences(trainX)\n",
        "val_seqs = tokenizer.texts_to_sequences(valX)\n",
        "test_seqs = tokenizer.texts_to_sequences(testX)\n",
        "\n",
        "train_seqs = tf.keras.preprocessing.sequence.pad_sequences(train_seqs, padding = 'pre')\n",
        "val_seqs = tf.keras.preprocessing.sequence.pad_sequences(val_seqs, padding = 'pre')\n",
        "test_seqs = tf.keras.preprocessing.sequence.pad_sequences(test_seqs, padding = 'pre')"
      ],
      "execution_count": 12,
      "outputs": []
    },
    {
      "cell_type": "code",
      "metadata": {
        "colab": {
          "base_uri": "https://localhost:8080/"
        },
        "id": "0D31hH2sciAZ",
        "outputId": "e68d92ba-0cac-4e5e-fbbf-a11e37eb818d"
      },
      "source": [
        "model = Sequential()\n",
        "model.add(layers.Embedding(len(tokenizer.word_index), 128))\n",
        "model.add(layers.Bidirectional(layers.SimpleRNN(256, return_sequences = True, dropout = 0.2)))\n",
        "model.add(layers.Bidirectional(layers.SimpleRNN(512, return_sequences = True, dropout = 0.2)))\n",
        "model.add(layers.Bidirectional(layers.SimpleRNN(64, return_sequences = True, dropout = 0.2)))\n",
        "model.add(layers.Bidirectional(layers.SimpleRNN(8, dropout = 0.2)))\n",
        "model.add(layers.Dense(1, activation = 'sigmoid'))\n",
        "\n",
        "opt = keras.optimizers.Adam(learning_rate=0.005)\n",
        "\n",
        "model.compile(loss = 'binary_crossentropy', optimizer = opt, metrics = ['accuracy'])\n",
        "\n",
        "model.summary()"
      ],
      "execution_count": 24,
      "outputs": [
        {
          "output_type": "stream",
          "name": "stdout",
          "text": [
            "Model: \"sequential_7\"\n",
            "_________________________________________________________________\n",
            "Layer (type)                 Output Shape              Param #   \n",
            "=================================================================\n",
            "embedding_7 (Embedding)      (None, None, 128)         2073856   \n",
            "_________________________________________________________________\n",
            "bidirectional_28 (Bidirectio (None, None, 512)         197120    \n",
            "_________________________________________________________________\n",
            "bidirectional_29 (Bidirectio (None, None, 1024)        1049600   \n",
            "_________________________________________________________________\n",
            "bidirectional_30 (Bidirectio (None, None, 128)         139392    \n",
            "_________________________________________________________________\n",
            "bidirectional_31 (Bidirectio (None, 16)                2192      \n",
            "_________________________________________________________________\n",
            "dense_7 (Dense)              (None, 1)                 17        \n",
            "=================================================================\n",
            "Total params: 3,462,177\n",
            "Trainable params: 3,462,177\n",
            "Non-trainable params: 0\n",
            "_________________________________________________________________\n"
          ]
        }
      ]
    },
    {
      "cell_type": "code",
      "metadata": {
        "colab": {
          "base_uri": "https://localhost:8080/",
          "height": 1000
        },
        "id": "FkOEgFIvfN76",
        "outputId": "f688a7fb-f524-4608-e1c4-cf862c81435e"
      },
      "source": [
        "history = model.fit(train_seqs, trainY, epochs = EPOCH, validation_data = (val_seqs, valY), verbose = 1)\n",
        "\n",
        "def plot_graphs(history, string):\n",
        "  plt.plot(history.history[string])\n",
        "  plt.plot(history.history['val_'+string])\n",
        "  plt.xlabel(\"Epochs\")\n",
        "  plt.ylabel(string)\n",
        "  plt.legend([string, 'val_'+string])\n",
        "  plt.show()\n",
        "\n",
        "plot_graphs(history, 'accuracy')\n",
        "plot_graphs(history, 'loss')\n",
        "\n",
        "print('\\nEpoch No.  Train Accuracy  Train Loss     Val Accuracy    Val Loss')\n",
        "for i in range(EPOCH):\n",
        "  print('{:8d} {:10f} \\t {:10f} \\t {:10f} \\t {:10f}'.format(i + 1, history.history['accuracy'][i], history.history['loss'][i], history.history['val_accuracy'][i], history.history['val_loss'][i]))"
      ],
      "execution_count": 25,
      "outputs": [
        {
          "output_type": "stream",
          "name": "stdout",
          "text": [
            "Epoch 1/15\n",
            "194/194 [==============================] - 246s 1s/step - loss: 0.5078 - accuracy: 0.7879 - val_loss: 0.4160 - val_accuracy: 0.8482\n",
            "Epoch 2/15\n",
            "194/194 [==============================] - 240s 1s/step - loss: 0.3538 - accuracy: 0.8782 - val_loss: 0.4068 - val_accuracy: 0.8409\n",
            "Epoch 3/15\n",
            "194/194 [==============================] - 244s 1s/step - loss: 0.3178 - accuracy: 0.8885 - val_loss: 0.4517 - val_accuracy: 0.8196\n",
            "Epoch 4/15\n",
            "194/194 [==============================] - 246s 1s/step - loss: 0.2642 - accuracy: 0.9149 - val_loss: 0.4334 - val_accuracy: 0.8419\n",
            "Epoch 5/15\n",
            "194/194 [==============================] - 247s 1s/step - loss: 0.2522 - accuracy: 0.9229 - val_loss: 0.4474 - val_accuracy: 0.8443\n",
            "Epoch 6/15\n",
            "194/194 [==============================] - 246s 1s/step - loss: 0.2735 - accuracy: 0.9173 - val_loss: 0.4152 - val_accuracy: 0.8477\n",
            "Epoch 7/15\n",
            "194/194 [==============================] - 246s 1s/step - loss: 0.2559 - accuracy: 0.9273 - val_loss: 0.4362 - val_accuracy: 0.8400\n",
            "Epoch 8/15\n",
            "194/194 [==============================] - 248s 1s/step - loss: 0.2533 - accuracy: 0.9273 - val_loss: 0.4181 - val_accuracy: 0.8487\n",
            "Epoch 9/15\n",
            "194/194 [==============================] - 263s 1s/step - loss: 0.2388 - accuracy: 0.9302 - val_loss: 0.4545 - val_accuracy: 0.8501\n",
            "Epoch 10/15\n",
            "194/194 [==============================] - 253s 1s/step - loss: 0.2325 - accuracy: 0.9305 - val_loss: 0.4638 - val_accuracy: 0.8332\n",
            "Epoch 11/15\n",
            "194/194 [==============================] - 247s 1s/step - loss: 0.2452 - accuracy: 0.9299 - val_loss: 0.4520 - val_accuracy: 0.8424\n",
            "Epoch 12/15\n",
            "194/194 [==============================] - 250s 1s/step - loss: 0.2496 - accuracy: 0.9270 - val_loss: 0.4668 - val_accuracy: 0.8409\n",
            "Epoch 13/15\n",
            "194/194 [==============================] - 250s 1s/step - loss: 0.2460 - accuracy: 0.9271 - val_loss: 0.4408 - val_accuracy: 0.8424\n",
            "Epoch 14/15\n",
            "194/194 [==============================] - 269s 1s/step - loss: 0.2545 - accuracy: 0.9220 - val_loss: 0.4653 - val_accuracy: 0.8240\n",
            "Epoch 15/15\n",
            "194/194 [==============================] - 265s 1s/step - loss: 0.2638 - accuracy: 0.9153 - val_loss: 0.4542 - val_accuracy: 0.8210\n"
          ]
        },
        {
          "output_type": "display_data",
          "data": {
            "image/png": "[encoded data removed]",
            "text/plain": [
              "<Figure size 432x288 with 1 Axes>"
            ]
          },
          "metadata": {
            "needs_background": "light"
          }
        },
        {
          "output_type": "display_data",
          "data": {
            "image/png": "[encoded data removed]",
            "text/plain": [
              "<Figure size 432x288 with 1 Axes>"
            ]
          },
          "metadata": {
            "needs_background": "light"
          }
        },
        {
          "output_type": "stream",
          "name": "stdout",
          "text": [
            "\n",
            "Epoch No.  Train Accuracy  Train Loss     Val Accuracy    Val Loss\n",
            "       1   0.787884 \t   0.507802 \t   0.848206 \t   0.416034\n",
            "       2   0.878191 \t   0.353820 \t   0.840931 \t   0.406836\n",
            "       3   0.888530 \t   0.317838 \t   0.819593 \t   0.451703\n",
            "       4   0.914863 \t   0.264159 \t   0.841901 \t   0.433439\n",
            "       5   0.922940 \t   0.252247 \t   0.844326 \t   0.447426\n",
            "       6   0.917286 \t   0.273517 \t   0.847721 \t   0.415168\n",
            "       7   0.927302 \t   0.255909 \t   0.839961 \t   0.436178\n",
            "       8   0.927302 \t   0.253305 \t   0.848691 \t   0.418085\n",
            "       9   0.930210 \t   0.238784 \t   0.850146 \t   0.454540\n",
            "      10   0.930533 \t   0.232475 \t   0.833172 \t   0.463776\n",
            "      11   0.929887 \t   0.245238 \t   0.842386 \t   0.452009\n",
            "      12   0.926979 \t   0.249575 \t   0.840931 \t   0.466822\n",
            "      13   0.927141 \t   0.246028 \t   0.842386 \t   0.440766\n",
            "      14   0.921971 \t   0.254514 \t   0.823957 \t   0.465342\n",
            "      15   0.915347 \t   0.263821 \t   0.821048 \t   0.454174\n"
          ]
        }
      ]
    },
    {
      "cell_type": "code",
      "metadata": {
        "colab": {
          "base_uri": "https://localhost:8080/",
          "height": 401
        },
        "id": "3H-qbb5vpXU2",
        "outputId": "ea249067-a7d3-453c-98fc-c8617faabac0"
      },
      "source": [
        "y_pred = model.predict(train_seqs)\n",
        "\n",
        "y_pred = np.where(y_pred > 0.5, 1, 0)\n",
        "y_pred = np.reshape(y_pred, (y_pred.shape[0]))\n",
        "\n",
        "loss, accuracy = model.evaluate(train_seqs, trainY, verbose = 1)\n",
        "print('Train Loss:', loss)\n",
        "print('Train Accuracy:', accuracy, '(Model Metric)')\n",
        "print('Train Accuracy:', accuracy_score(trainY, y_pred), '(sklearn Metric)')\n",
        "print('Train Precision:', precision_score(trainY, y_pred))\n",
        "print('Train Recall:', recall_score(trainY, y_pred))\n",
        "print('Train F1-score:', f1_score(trainY, y_pred))\n",
        "\n",
        "sns.heatmap(confusion_matrix(trainY, y_pred), annot = True, fmt = 'g')"
      ],
      "execution_count": 26,
      "outputs": [
        {
          "output_type": "stream",
          "name": "stdout",
          "text": [
            "194/194 [==============================] - 50s 251ms/step - loss: 0.2616 - accuracy: 0.9162\n",
            "Train Loss: 0.26158607006073\n",
            "Train Accuracy: 0.9161550998687744 (Model Metric)\n",
            "Train Accuracy: 0.9161550888529887 (sklearn Metric)\n",
            "Train Precision: 0.8095238095238095\n",
            "Train Recall: 0.8283898305084746\n",
            "Train F1-score: 0.818848167539267\n"
          ]
        },
        {
          "output_type": "execute_result",
          "data": {
            "text/plain": [
              "<matplotlib.axes._subplots.AxesSubplot at 0x7efc7af8dad0>"
            ]
          },
          "metadata": {},
          "execution_count": 26
        },
        {
          "output_type": "display_data",
          "data": {
            "image/png": "[encoded data removed]",
            "text/plain": [
              "<Figure size 432x288 with 2 Axes>"
            ]
          },
          "metadata": {
            "needs_background": "light"
          }
        }
      ]
    },
    {
      "cell_type": "code",
      "metadata": {
        "colab": {
          "base_uri": "https://localhost:8080/",
          "height": 401
        },
        "id": "3VIDT8KDpbFl",
        "outputId": "aa7301c6-4e6b-40ac-f38f-db6d1a7ab1dc"
      },
      "source": [
        "y_pred = model.predict(val_seqs)\n",
        "\n",
        "y_pred = np.where(y_pred > 0.5, 1, 0)\n",
        "y_pred = np.reshape(y_pred, (y_pred.shape[0]))\n",
        "\n",
        "loss, accuracy = model.evaluate(val_seqs, valY, verbose = 1)\n",
        "print('Validation Loss:', loss)\n",
        "print('Validation Accuracy:', accuracy, '(Model Metric)')\n",
        "print('Validation Accuracy:', accuracy_score(valY, y_pred), '(sklearn Metric)')\n",
        "print('Validation Precision:', precision_score(valY, y_pred))\n",
        "print('Validation Recall:', recall_score(valY, y_pred))\n",
        "print('Validation F1-score:', f1_score(valY, y_pred))\n",
        "\n",
        "sns.heatmap(confusion_matrix(valY, y_pred), annot = True, fmt = 'g')"
      ],
      "execution_count": 27,
      "outputs": [
        {
          "output_type": "stream",
          "name": "stdout",
          "text": [
            "65/65 [==============================] - 15s 232ms/step - loss: 0.4542 - accuracy: 0.8210\n",
            "Validation Loss: 0.4541737139225006\n",
            "Validation Accuracy: 0.8210475444793701 (Model Metric)\n",
            "Validation Accuracy: 0.8210475266731329 (sklearn Metric)\n",
            "Validation Precision: 0.5761589403973509\n",
            "Validation Recall: 0.5958904109589042\n",
            "Validation F1-score: 0.5858585858585859\n"
          ]
        },
        {
          "output_type": "execute_result",
          "data": {
            "text/plain": [
              "<matplotlib.axes._subplots.AxesSubplot at 0x7efc7b06fc90>"
            ]
          },
          "metadata": {},
          "execution_count": 27
        },
        {
          "output_type": "display_data",
          "data": {
            "image/png": "[encoded data removed]",
            "text/plain": [
              "<Figure size 432x288 with 2 Axes>"
            ]
          },
          "metadata": {
            "needs_background": "light"
          }
        }
      ]
    },
    {
      "cell_type": "code",
      "metadata": {
        "colab": {
          "base_uri": "https://localhost:8080/",
          "height": 401
        },
        "id": "Ank5fVIipdM5",
        "outputId": "a0bec6b9-32a3-4904-c897-c0923d2ba94a"
      },
      "source": [
        "y_pred = model.predict(test_seqs)\n",
        "\n",
        "y_pred = np.where(y_pred > 0.5, 1, 0)\n",
        "y_pred = np.reshape(y_pred, (y_pred.shape[0]))\n",
        "\n",
        "loss, accuracy = model.evaluate(test_seqs, testY, verbose = 1)\n",
        "print('Test Loss:', loss)\n",
        "print('Test Accuracy:', accuracy, '(Model Metric)')\n",
        "print('Test Accuracy:', accuracy_score(testY, y_pred), '(sklearn Metric)')\n",
        "print('Test Precision:', precision_score(testY, y_pred))\n",
        "print('Test Recall:', recall_score(testY, y_pred))\n",
        "print('Test F1-score:', f1_score(testY, y_pred))\n",
        "\n",
        "sns.heatmap(confusion_matrix(testY, y_pred), annot = True, fmt = 'g')"
      ],
      "execution_count": 28,
      "outputs": [
        {
          "output_type": "stream",
          "name": "stdout",
          "text": [
            "65/65 [==============================] - 18s 257ms/step - loss: 0.4833 - accuracy: 0.8050\n",
            "Test Loss: 0.48334693908691406\n",
            "Test Accuracy: 0.805043637752533 (Model Metric)\n",
            "Test Accuracy: 0.8050436469447139 (sklearn Metric)\n",
            "Test Precision: 0.5601659751037344\n",
            "Test Recall: 0.5869565217391305\n",
            "Test F1-score: 0.5732484076433121\n"
          ]
        },
        {
          "output_type": "execute_result",
          "data": {
            "text/plain": [
              "<matplotlib.axes._subplots.AxesSubplot at 0x7efc7b0a88d0>"
            ]
          },
          "metadata": {},
          "execution_count": 28
        },
        {
          "output_type": "display_data",
          "data": {
            "image/png": "[encoded data removed]",
            "text/plain": [
              "<Figure size 432x288 with 2 Axes>"
            ]
          },
          "metadata": {
            "needs_background": "light"
          }
        }
      ]
    }
  ]
}